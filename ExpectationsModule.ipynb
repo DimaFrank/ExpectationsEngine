{
 "cells": [
  {
   "cell_type": "code",
   "execution_count": 0,
   "metadata": {
    "application/vnd.databricks.v1+cell": {
     "cellMetadata": {
      "byteLimit": 2048000,
      "rowLimit": 10000
     },
     "inputWidgets": {},
     "nuid": "e51847a2-5889-4f5f-b93f-bb3c85ac8893",
     "showTitle": false,
     "title": ""
    }
   },
   "outputs": [
    {
     "output_type": "display_data",
     "data": {
      "application/vnd.jupyter.widget-view+json": {
       "model_id": "9b20b8f274e14b37beb2319950bcccaf",
       "version_major": 2,
       "version_minor": 0
      },
      "text/plain": [
       "VBox(children=(HTML(value='<h3>Select DataSource:</h3>'), Dropdown(description='Catalog', options=('sgbi_silve…"
      ]
     },
     "metadata": {},
     "output_type": "display_data"
    },
    {
     "output_type": "display_data",
     "data": {
      "application/vnd.jupyter.widget-view+json": {
       "model_id": "f2b0ae6c3bf349a9a604a078815e087e",
       "version_major": 2,
       "version_minor": 0
      },
      "text/plain": [
       "VBox(children=(HTML(value='<h3>Select Column Map Expectation:</h3>'), Dropdown(description='Column name:', opt…"
      ]
     },
     "metadata": {},
     "output_type": "display_data"
    },
    {
     "output_type": "display_data",
     "data": {
      "application/vnd.jupyter.widget-view+json": {
       "model_id": "b905a01f81664c8ba43b669f7c64db05",
       "version_major": 2,
       "version_minor": 0
      },
      "text/plain": [
       "VBox(children=(HTML(value='<h3>Select Table Expectation:</h3>'), Dropdown(description='Table Expectations:', o…"
      ]
     },
     "metadata": {},
     "output_type": "display_data"
    }
   ],
   "source": [
    "import ipywidgets as widgets\n",
    "import json\n",
    "from IPython.display import display, HTML\n",
    "\n",
    "class ExpectationSettingsWidget:\n",
    "\n",
    "\n",
    "    def read_mapping_collections(start, end, return_dict=False):\n",
    "        temp_list=[]\n",
    "        with open('/Workspace/Users/dima.frank@strauss-group.com/ExpectationsModuleMapping', 'rb+') as f:\n",
    "            lines = f.readlines()[start:end]\n",
    "            for line in lines:\n",
    "                temp_list.append(line.strip().decode('utf-8'))\n",
    "\n",
    "            if return_dict==True:\n",
    "                dct = {}\n",
    "                for row in temp_list:\n",
    "                    dct[row.split(':')[0].strip()] = row.split(':')[1].strip()\n",
    "                return dct\n",
    "            else:\n",
    "                return temp_list\n",
    "        \n",
    "    string_expectations = read_mapping_collections(start=1, end=10, return_dict=False)\n",
    "    numeric_expectations = read_mapping_collections(start=12, end=18, return_dict=False)\n",
    "    table_expectations = read_mapping_collections(start=20, end=22, return_dict=False)\n",
    "    content_mapping = read_mapping_collections(start=24, end=39, return_dict=True)\n",
    "\n",
    "\n",
    "    def __init__(self):\n",
    "        self.datasource_name = \"sgbi_silver_prod.sapbw_queries.sdc_sout\"  # default\n",
    "        self.datacatalog_dropdown = widgets.Dropdown(options=[self.datasource_name.split('.')[0]], value=self.datasource_name.split('.')[0], description='Catalog') #temporary\n",
    "        self.dataschema_dropdown = widgets.Dropdown(options=[self.datasource_name.split('.')[1]], value=self.datasource_name.split('.')[1], description='Schema') #temporary\n",
    "        self.dataset_dropdown = widgets.Dropdown(options=[self.datasource_name.split('.')[2]], value=self.datasource_name.split('.')[2], description='Dataset') #temporary\n",
    "        self.success_message = widgets.Label(value=\"Expectation was successfully added!\")\n",
    "        self.column_dropdown = self.create_column_dropdown()\n",
    "        self.expectations_dropdown = self.create_expectations_dropdown()\n",
    "        self.add_button = widgets.Button(description='Add', button_style='success')\n",
    "        self.add_button.on_click(self.add_button_clicked)\n",
    "        self.table_expectations_dropdown = self.create_table_expectations_dropdown()\n",
    "        self.widget_box0 = widgets.VBox([\n",
    "            widgets.HTML(\"<h3>Select DataSource:</h3>\"), \n",
    "            self.datacatalog_dropdown,\n",
    "            self.dataschema_dropdown,\n",
    "            self.dataset_dropdown  \n",
    "        ])\n",
    "        self.widget_box1 = widgets.VBox([\n",
    "            widgets.HTML(\"<h3>Select Column Map Expectation:</h3>\"),\n",
    "            self.column_dropdown,\n",
    "            self.expectations_dropdown,\n",
    "            self.add_button        \n",
    "        ])\n",
    "        self.widget_box2 = widgets.VBox([\n",
    "            widgets.HTML(\"<h3>Select Table Expectation:</h3>\"),\n",
    "            self.table_expectations_dropdown,\n",
    "            # self.expectations_dropdown,\n",
    "            self.add_button\n",
    "        ])\n",
    "        self.widget_box1.layout.width = '800px'\n",
    "        self.config_file = self.remove_duplicate_expectations({})\n",
    "        display(self.widget_box0)\n",
    "        display(self.widget_box1)\n",
    "        display(self.widget_box2)\n",
    " \n",
    "    def set_datasource_name(self, datasource_name):\n",
    "        self.datasource_name = datasource_name\n",
    "        self.update_column_dropdown()\n",
    "    \n",
    "    def get_dtype(self, col_name):\n",
    "        return dict(spark.sql(f'''select * from {self.datasource_name} ''').dtypes)[col_name]\n",
    "\n",
    "    def create_column_dropdown(self):\n",
    "        columns_df = spark.sql(f\"\"\"SHOW COLUMNS IN {self.datasource_name}\"\"\")\n",
    "        columns_list = [row.col_name for row in columns_df.collect()]\n",
    "        column_dropdown = widgets.Dropdown(options=columns_list, value=columns_list[0], description='Column name:')\n",
    "        column_dropdown.observe(self.column_dropdown_event, names='value')\n",
    "        return column_dropdown\n",
    "    \n",
    "    def update_column_dropdown(self):\n",
    "        columns_df = spark.sql(f\"\"\"SHOW COLUMNS IN {self.datasource_name}\"\"\")\n",
    "        columns_list = [row.col_name for row in columns_df.collect()]\n",
    "        self.column_dropdown.options = columns_list\n",
    "        self.column_dropdown.value = columns_list[0]\n",
    "        self.update_expectations_dropdown()\n",
    "\n",
    "    def create_expectations_dropdown(self):\n",
    "        expectations_dropdown = widgets.Dropdown(description='Expectations:', style={'description_width': 'initial'})\n",
    "        return expectations_dropdown                              \n",
    "    \n",
    "    def update_expectations_dropdown(self):\n",
    "        selected_column = self.column_dropdown.value\n",
    "        if 'string' in self.get_dtype(selected_column):\n",
    "            self.expectations_dropdown.options = self.string_expectations\n",
    "        elif 'decimal' in self.get_dtype(selected_column):\n",
    "            self.expectations_dropdown.options = self.numeric_expectations\n",
    "\n",
    "    def column_dropdown_event(self, change):       \n",
    "        self.update_expectations_dropdown()\n",
    "\n",
    "    def add_button_clicked(self, _):\n",
    "        selected_column = self.column_dropdown.value\n",
    "        selected_expectation = self.expectations_dropdown.value\n",
    "        display(HTML(f\"<p style='color:green;'>Added: Column={selected_column}, Expectation={selected_expectation}</p>\"))\n",
    "\n",
    "    def create_table_expectations_dropdown(self):\n",
    "        table_expectations_dropdown = widgets.Dropdown(options=self.table_expectations, description='Table Expectations:', style={'deccription_width': 'initial'})\n",
    "        return table_expectations_dropdown     \n",
    "    \n",
    "    def create_config_file(self, selected_expectation):\n",
    "        config = {\n",
    "            \"expectation_type\": self.content_mapping[selected_expectation],\n",
    "            \"kwargs\": {},\n",
    "            \"meta\": {\n",
    "                \"notes\": {\n",
    "                    \"format\": \"markdown\",\n",
    "                    \"content\": f\"{selected_expectation}\"\n",
    "                }\n",
    "            }\n",
    "        }\n",
    "        return config\n",
    "    \n",
    "    \n",
    "    def remove_duplicate_expectations(self, input_dict):\n",
    "            unique_expectations = {}  \n",
    "            result_dict = {}          \n",
    "            \n",
    "            for key, expectation in input_dict.items():\n",
    "                expectation_content = json.dumps(expectation, sort_keys=True)\n",
    "                \n",
    "                if expectation_content not in unique_expectations:\n",
    "                    unique_expectations[expectation_content] = key\n",
    "                    result_dict[key] = expectation\n",
    "            \n",
    "            return result_dict\n",
    "\n",
    "\n",
    "    def add_button_clicked(self, _):\n",
    "        selected_column = self.column_dropdown.value\n",
    "        selected_expectation = self.expectations_dropdown.value\n",
    "        key='expectation_1'\n",
    "        if key not in self.config_file.keys():\n",
    "            self.config_file[key] = self.create_config_file(selected_expectation)\n",
    "            self.config_file = self.remove_duplicate_expectations(self.config_file)\n",
    "        else:\n",
    "            i=2\n",
    "            key=f'''expectation_{i}'''\n",
    "            while key in self.config_file.keys():\n",
    "                i+=1\n",
    "                key=f'''expectation_{i}'''             \n",
    "            self.config_file[key] = self.create_config_file(selected_expectation) \n",
    "            self.config_file = self.remove_duplicate_expectations(self.config_file)\n",
    "           \n",
    "        print(self.remove_duplicate_expectations(self.config_file))\n",
    "        display(HTML(f\"<p style='color:green;'>Added: Column={selected_column}, Expectation={selected_expectation}</p>\"))\n",
    "        display(HTML(f\"<p style='color:green;'>{self.success_message}</p>\"))\n",
    "\n",
    "dbutils.widgets.removeAll()\n",
    "\n",
    "widget = ExpectationSettingsWidget()\n",
    "widget.set_datasource_name(\"sgbi_silver_prod.sapbw_queries.sdc_sout\")\n"
   ]
  },
  {
   "cell_type": "code",
   "execution_count": 0,
   "metadata": {
    "application/vnd.databricks.v1+cell": {
     "cellMetadata": {
      "byteLimit": 2048000,
      "rowLimit": 10000
     },
     "inputWidgets": {},
     "nuid": "b203588a-1acd-4472-b595-37635bd843ef",
     "showTitle": false,
     "title": ""
    }
   },
   "outputs": [
    {
     "output_type": "stream",
     "name": "stdout",
     "output_type": "stream",
     "text": [
      "Out[13]: {'expectation_1': {'expectation_type': 'expect_column_values_to_not_match_regex',\n  'kwargs': {},\n  'meta': {'notes': {'format': 'markdown',\n    'content': 'Expect the column entries to be strings that do NOT match a given regular expression.'}}},\n 'expectation_2': {'expectation_type': 'expect_column_values_to_not_match_like_pattern_list',\n  'kwargs': {},\n  'meta': {'notes': {'format': 'markdown',\n    'content': 'Expect the column entries to be strings that do NOT match any of a provided list of like pattern expressions.'}}},\n 'expectation_3': {'expectation_type': 'expect_column_values_to_be_null',\n  'kwargs': {},\n  'meta': {'notes': {'format': 'markdown',\n    'content': 'Expect the column values to be null.'}}}}"
     ]
    }
   ],
   "source": [
    "widget.config_file"
   ]
  },
  {
   "cell_type": "code",
   "execution_count": 0,
   "metadata": {
    "application/vnd.databricks.v1+cell": {
     "cellMetadata": {
      "byteLimit": 2048000,
      "rowLimit": 10000
     },
     "inputWidgets": {},
     "nuid": "11ec5a6c-0281-4739-a3b1-daa53b23cb8e",
     "showTitle": false,
     "title": ""
    }
   },
   "outputs": [
    {
     "output_type": "display_data",
     "data": {
      "application/vnd.jupyter.widget-view+json": {
       "model_id": "5638ab99a7d14670afbfbba19c72f751",
       "version_major": 2,
       "version_minor": 0
      },
      "text/plain": [
       "Label(value='Expectation was successfully added!')"
      ]
     },
     "metadata": {},
     "output_type": "display_data"
    }
   ],
   "source": [
    "widget.success_message"
   ]
  },
  {
   "cell_type": "code",
   "execution_count": 0,
   "metadata": {
    "application/vnd.databricks.v1+cell": {
     "cellMetadata": {},
     "inputWidgets": {},
     "nuid": "7b1608c5-3b7f-4eb5-a217-be754d5aa4ed",
     "showTitle": false,
     "title": ""
    }
   },
   "outputs": [],
   "source": []
  }
 ],
 "metadata": {
  "application/vnd.databricks.v1+notebook": {
   "dashboards": [],
   "language": "python",
   "notebookMetadata": {
    "pythonIndentUnit": 4,
    "widgetLayout": [
     {
      "breakBefore": false,
      "name": "Column name",
      "width": 203
     },
     {
      "breakBefore": false,
      "name": "Expectations",
      "width": 675
     },
     {
      "breakBefore": false,
      "name": "max",
      "width": 203
     },
     {
      "breakBefore": false,
      "name": "min",
      "width": 203
     }
    ]
   },
   "notebookName": "ExpectationsModule",
   "widgets": {}
  }
 },
 "nbformat": 4,
 "nbformat_minor": 0
}
